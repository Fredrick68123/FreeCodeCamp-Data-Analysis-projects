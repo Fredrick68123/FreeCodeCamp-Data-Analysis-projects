{
 "cells": [
  {
   "cell_type": "code",
   "execution_count": 2,
   "metadata": {},
   "outputs": [],
   "source": [
    "import numpy as np"
   ]
  },
  {
   "cell_type": "code",
   "execution_count": 8,
   "metadata": {},
   "outputs": [
    {
     "data": {
      "text/plain": [
       "{'mean': [[2.0, 5.0, 8.0], [4.0, 5.0, 6.0], 5.0],\n",
       " 'min': [[1, 4, 7], [1, 2, 3], 1],\n",
       " 'max': [[3, 6, 9], [7, 8, 9], 9],\n",
       " 'standard deviation': [[0.816496580927726,\n",
       "   0.816496580927726,\n",
       "   0.816496580927726],\n",
       "  [2.449489742783178, 2.449489742783178, 2.449489742783178],\n",
       "  2.581988897471611],\n",
       " 'variance': [[0.6666666666666666, 0.6666666666666666, 0.6666666666666666],\n",
       "  [6.0, 6.0, 6.0],\n",
       "  6.666666666666667],\n",
       " 'sum': [[6, 15, 24], [12, 15, 18], 45]}"
      ]
     },
     "execution_count": 8,
     "metadata": {},
     "output_type": "execute_result"
    }
   ],
   "source": [
    "def calculate(d_1_array):\n",
    "\n",
    "    if len(d_1_array) < 9 or len(d_1_array) > 9:\n",
    "    \n",
    "        raise ValueError(\"List must contain nine numbers.\")\n",
    "\n",
    "    elif len(d_1_array) == 9:\n",
    "        \n",
    "        matrix = np.reshape(a= d_1_array, newshape= (3, 3))\n",
    "\n",
    "        dictionary = {'mean': [[matrix[0].mean(), matrix[1].mean(), matrix[2].mean()], \n",
    "                               \n",
    "                               [matrix[:, 0].mean(), matrix[:, 1].mean(), matrix[:, 2].mean()], \n",
    "                               \n",
    "                               matrix.flatten().mean()], \n",
    "                               \n",
    "                    'min': [[matrix[0].min(), matrix[1].min(), matrix[2].min()], \n",
    "                               \n",
    "                               [matrix[:, 0].min(), matrix[:, 1].min(), matrix[:, 2].min()], \n",
    "                               \n",
    "                               matrix.flatten().min()], \n",
    "                               \n",
    "                    'max': [[matrix[0].max(), matrix[1].max(), matrix[2].max()], \n",
    "                               \n",
    "                               [matrix[:, 0].max(), matrix[:, 1].max(), matrix[:, 2].max()], \n",
    "                               \n",
    "                               matrix.flatten().max()], \n",
    "                               \n",
    "                    'standard deviation': [[matrix[0].std(), matrix[1].std(), matrix[2].std()], \n",
    "                               \n",
    "                               [matrix[:, 0].std(), matrix[:, 1].std(), matrix[:, 2].std()], \n",
    "                               \n",
    "                               matrix.flatten().std()], \n",
    "                               \n",
    "                    'variance': [[matrix[0].var(), matrix[1].var(), matrix[2].var()], \n",
    "                               \n",
    "                               [matrix[:, 0].var(), matrix[:, 1].var(), matrix[:, 2].var()], \n",
    "                               \n",
    "                               matrix.flatten().var()], \n",
    "                               \n",
    "                    'sum': [[matrix[0].sum(), matrix[1].sum(), matrix[2].sum()], \n",
    "                               \n",
    "                               [matrix[:, 0].sum(), matrix[:, 1].sum(), matrix[:, 2].sum()], \n",
    "                               \n",
    "                               matrix.flatten().sum()]}\n",
    "        \n",
    "        return dictionary\n",
    "\n",
    "\n",
    "calculate(np.array([1, 2, 3, 4, 5, 6, 7, 8, 9]))"
   ]
  },
  {
   "cell_type": "code",
   "execution_count": null,
   "metadata": {},
   "outputs": [],
   "source": [
    "\n",
    "\n"
   ]
  }
 ],
 "metadata": {
  "kernelspec": {
   "display_name": "Python 3",
   "language": "python",
   "name": "python3"
  },
  "language_info": {
   "codemirror_mode": {
    "name": "ipython",
    "version": 3
   },
   "file_extension": ".py",
   "mimetype": "text/x-python",
   "name": "python",
   "nbconvert_exporter": "python",
   "pygments_lexer": "ipython3",
   "version": "3.12.2"
  }
 },
 "nbformat": 4,
 "nbformat_minor": 2
}
